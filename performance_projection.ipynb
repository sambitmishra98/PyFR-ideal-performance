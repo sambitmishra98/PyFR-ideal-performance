{
  "nbformat": 4,
  "nbformat_minor": 0,
  "metadata": {
    "colab": {
      "provenance": [],
      "authorship_tag": "ABX9TyNDpuWj/PBFK0BJCW+T2UNr",
      "include_colab_link": true
    },
    "kernelspec": {
      "name": "python3",
      "display_name": "Python 3"
    },
    "language_info": {
      "name": "python"
    }
  },
  "cells": [
    {
      "cell_type": "markdown",
      "metadata": {
        "id": "view-in-github",
        "colab_type": "text"
      },
      "source": [
        "<a href=\"https://colab.research.google.com/github/sambitmishra98/PyFR-ideal-performance/blob/main/performance_projection.ipynb\" target=\"_parent\"><img src=\"https://colab.research.google.com/assets/colab-badge.svg\" alt=\"Open In Colab\"/></a>"
      ]
    },
    {
      "cell_type": "markdown",
      "source": [
        "# Projected performance computation from mesh\n",
        "\n",
        "In this document, we aim to compare the performance of expected PyFR performance in comparison with actual performance.\n",
        "\n",
        "The expected performance is computed by understanding inputs and outputs to all kernels used for computation.\n",
        "\n",
        "The actual performance is computed using `perf_counter()` and looking at wall-time in the solution file. More details are available in https://docs.google.com/spreadsheets/d/1M6Nl5DxMhgi1SuUoGmmD3tR5jjmDrSFV1EWkhQYbmt4/edit?usp=sharing"
      ],
      "metadata": {
        "id": "8goTmJ_YllWw"
      }
    },
    {
      "cell_type": "markdown",
      "source": [
        "## Performance details from configuration file"
      ],
      "metadata": {
        "id": "Bqwp4CQomevV"
      }
    },
    {
      "cell_type": "code",
      "execution_count": null,
      "metadata": {
        "id": "N06qEkWllj5N"
      },
      "outputs": [],
      "source": [
        "# [backend]\n",
        "precision = 'double' # or 'single'\n",
        "\n",
        "# [solver]\n",
        "system = 'navier-stokes' # or 'euler'\n",
        "order = 1\n",
        "\n",
        "# [solver-time-integrator]\n",
        "scheme = 'rk4' # or 'rk'"
      ]
    }
  ]
}