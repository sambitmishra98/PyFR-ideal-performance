{
  "nbformat": 4,
  "nbformat_minor": 0,
  "metadata": {
    "colab": {
      "provenance": [],
      "authorship_tag": "ABX9TyNhFGpyR+VOyaG8cElAGZdJ",
      "include_colab_link": true
    },
    "kernelspec": {
      "name": "python3",
      "display_name": "Python 3"
    },
    "language_info": {
      "name": "python"
    }
  },
  "cells": [
    {
      "cell_type": "markdown",
      "metadata": {
        "id": "view-in-github",
        "colab_type": "text"
      },
      "source": [
        "<a href=\"https://colab.research.google.com/github/sambitmishra98/PyFR-ideal-performance/blob/main/performance_projection.ipynb\" target=\"_parent\"><img src=\"https://colab.research.google.com/assets/colab-badge.svg\" alt=\"Open In Colab\"/></a>"
      ]
    },
    {
      "cell_type": "markdown",
      "source": [
        "# Projected performance computation from mesh\n",
        "\n",
        "In this document, we aim to compare the performance of expected PyFR performance in comparison with actual performance.\n",
        "\n",
        "The expected performance is computed by understanding inputs and outputs to all kernels used for computation.\n",
        "\n",
        "The actual performance is computed using `perf_counter()` and looking at wall-time in the solution file. For example, actual performance of Intel MAX GPUs is shown in a [Google Docs file](https://docs.google.com/document/d/1yX7JqTTsXRikTtzRon-03TgRGceByce075N4-Ptp7cI/edit?usp=sharing) (Restricted access). The latter method was used to benchmark performance of PyFR on A100 GPUs in a paper: [Scaling Study of Flow Simulations on Composable Cyberinfrastructure](https://doi.org/10.1145/3569951.3597565)."
      ],
      "metadata": {
        "id": "8goTmJ_YllWw"
      }
    },
    {
      "cell_type": "markdown",
      "source": [
        "## Performance details from configuration file\n",
        "\n",
        "Following the configurations as given in [PyFR documentation](https://pyfr.readthedocs.io/en/latest/user_guide.html#configuration-file-ini).\n",
        "Only those relevant to performance computation is declared below.\n"
      ],
      "metadata": {
        "id": "Bqwp4CQomevV"
      }
    },
    {
      "cell_type": "code",
      "execution_count": 1,
      "metadata": {
        "id": "N06qEkWllj5N"
      },
      "outputs": [],
      "source": [
        "# [backend]\n",
        "precision = 'double'\n",
        "\n",
        "# [solver]\n",
        "system = 'navier-stokes'\n",
        "order = 1\n",
        "\n",
        "# [solver-time-integrator]\n",
        "scheme = 'rk4'\n",
        "tstart = 0\n",
        "tend = 1.0001\n",
        "dt = 0.0001"
      ]
    },
    {
      "cell_type": "markdown",
      "source": [
        "## Processing data from mesh\n",
        "\n",
        "\n",
        "Details of how mesh size may be obtained is found in plugin path `pyfr/plugins/benchmark.py` in benchmark branch in [sambitmihsra98/PyFR.git](https://github.com/sambitmishra98/PyFR.git).\n"
      ],
      "metadata": {
        "id": "Yja6bNEZqmlc"
      }
    },
    {
      "cell_type": "code",
      "source": [
        "element_counts = { 'tet': 1,\n",
        "}"
      ],
      "metadata": {
        "id": "p8DVgaBkqmFP"
      },
      "execution_count": 2,
      "outputs": []
    },
    {
      "cell_type": "markdown",
      "source": [
        "## element-wise degrees of freedom calculation\n",
        "\n",
        "An analysis of Flux Reconstruction schemes on Tetrahedral elements may be found in [this paper](https://doi.org/10.1007/s10915-016-0204-y). In gist, we have solution points and flux points for tetrahedra as\n",
        "\n",
        "Tetrahedra:\n",
        "$$N^n_s = \\frac{(n+1)(n+2)(n+3)}{6} $$\n",
        "$$N^n_f = \\frac{4\\cdot(n+1)(n+2)(n+3)}{6} $$\n",
        "\n",
        "for polynomial of order $n$."
      ],
      "metadata": {
        "id": "so08BhoBr5Hz"
      }
    },
    {
      "cell_type": "code",
      "source": [
        "def element_dof(etype, n):\n",
        "    if etype == 'tet':\n",
        "        Nu = (n+1)*(n+2)*(n+3)/6\n",
        "        Nf = 4*Nu\n",
        "    else:\n",
        "        raise Exception(\"Not implemented yet\")\n",
        "\n",
        "    return Nu, Nf\n"
      ],
      "metadata": {
        "id": "MZSOB5PDrwZd"
      },
      "execution_count": null,
      "outputs": []
    },
    {
      "cell_type": "code",
      "source": [],
      "metadata": {
        "id": "UciMJZclxcu-"
      },
      "execution_count": null,
      "outputs": []
    }
  ]
}