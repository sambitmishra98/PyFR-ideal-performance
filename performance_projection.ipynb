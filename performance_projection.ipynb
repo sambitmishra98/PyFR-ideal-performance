{
  "cells": [
    {
      "cell_type": "markdown",
      "metadata": {
        "colab_type": "text",
        "id": "view-in-github"
      },
      "source": [
        "<a href=\"https://colab.research.google.com/github/sambitmishra98/PyFR-ideal-performance/blob/main/performance_projection.ipynb\" target=\"_parent\"><img src=\"https://colab.research.google.com/assets/colab-badge.svg\" alt=\"Open In Colab\"/></a>"
      ]
    },
    {
      "cell_type": "markdown",
      "metadata": {
        "id": "8goTmJ_YllWw"
      },
      "source": [
        "# Projected performance computation from mesh\n",
        "\n",
        "In this document, we aim to compare the performance of expected PyFR performance in comparison with actual performance.\n",
        "\n",
        "The expected performance is computed by understanding inputs and outputs to all kernels used for computation.\n",
        "\n",
        "The actual performance is computed using `perf_counter()` and looking at wall-time in the solution file. For example, actual performance of Intel MAX GPUs is shown in a [Google Docs file](https://docs.google.com/document/d/1yX7JqTTsXRikTtzRon-03TgRGceByce075N4-Ptp7cI/edit?usp=sharing) (Restricted access). The latter method was used to benchmark performance of PyFR on A100 GPUs in a paper: [Scaling Study of Flow Simulations on Composable Cyberinfrastructure](https://doi.org/10.1145/3569951.3597565)."
      ]
    },
    {
      "cell_type": "code",
      "execution_count": 2,
      "metadata": {},
      "outputs": [],
      "source": [
        "# Global variables\n",
        "\n",
        "size_of_float = 4 \n",
        "precision_size = {'single': size_of_float, \n",
        "                  'double': 2*size_of_float}\n",
        "\n",
        "etypes = ['tet', 'pyr', 'pri', 'hex',]\n",
        "element_counts = {etype: 0 for etype in etypes}\n"
      ]
    },
    {
      "cell_type": "markdown",
      "metadata": {
        "id": "Bqwp4CQomevV"
      },
      "source": [
        "## Performance details from configuration file\n",
        "\n",
        "Following the configurations as given in [PyFR documentation](https://pyfr.readthedocs.io/en/latest/user_guide.html#configuration-file-ini).\n",
        "Only those relevant to performance computation is declared below.\n"
      ]
    },
    {
      "cell_type": "code",
      "execution_count": 3,
      "metadata": {
        "id": "N06qEkWllj5N"
      },
      "outputs": [],
      "source": [
        "# [backend]\n",
        "precision = 'double'\n",
        "\n",
        "# [solver]\n",
        "system = 'navier-stokes'\n",
        "order = 1\n",
        "\n",
        "# [solver-time-integrator]\n",
        "scheme = 'rk4'\n",
        "tstart = 0\n",
        "tend = 1.0001\n",
        "dt = 0.0001"
      ]
    },
    {
      "cell_type": "markdown",
      "metadata": {
        "id": "Yja6bNEZqmlc"
      },
      "source": [
        "## Processing data from mesh\n",
        "\n",
        "\n",
        "Details of how mesh size may be obtained is found in plugin path `pyfr/plugins/benchmark.py` in benchmark branch in [sambitmihsra98/PyFR.git](https://github.com/sambitmishra98/PyFR.git).\n"
      ]
    },
    {
      "cell_type": "code",
      "execution_count": 4,
      "metadata": {
        "id": "p8DVgaBkqmFP"
      },
      "outputs": [],
      "source": [
        "ndims = 3\n",
        "nvars = ndims + 2\n",
        "\n",
        "element_counts['tet'] = 1"
      ]
    },
    {
      "cell_type": "markdown",
      "metadata": {
        "id": "so08BhoBr5Hz"
      },
      "source": [
        "## Degrees of Freedom (DoFs) calculation\n",
        "\n",
        "An analysis of Flux Reconstruction schemes on Tetrahedral elements may be found in [this paper](https://doi.org/10.1007/s10915-016-0204-y). In general, we have ..."
      ]
    },
    {
      "cell_type": "code",
      "execution_count": 5,
      "metadata": {
        "id": "MZSOB5PDrwZd"
      },
      "outputs": [],
      "source": [
        "def edof(etype, n):\n",
        "    if etype == 'tri':\n",
        "        Nu = (n+1)*(n+2)/2\n",
        "        Nf = 3*(n+1)\n",
        "    elif etype == 'quad':\n",
        "        Nu = (n+1)**2\n",
        "        Nf = 4*(n+1)\n",
        "    elif etype == 'tet':\n",
        "        Nu = (n+3)*edof('tri', n)[0]//3\n",
        "        Nf = 4*edof('tri', n)[0]\n",
        "    elif etype == 'pyr':\n",
        "        Nu = (2*n+3)*edof('tri', n)[0]//3\n",
        "        Nf = 4*edof('tri', n)[0] +   edof('quad', n)[0]\n",
        "    elif etype == 'pri':\n",
        "        Nu = (n+1)*edof('tri', n)[0]\n",
        "        Nf = 2*edof('tri', n)[0] + 3*edof('quad', n)[0]\n",
        "    elif etype == 'hex':\n",
        "        Nu = (n+1)*edof('quad', n)[0]\n",
        "        Nf = 6*edof('quad', n)[0]\n",
        "    else:\n",
        "        raise Exception(\"Not implemented yet\")\n",
        "\n",
        "    NNuf = Nu*Nf    # Matrix of size Nu x Nf\n",
        "    NNuu = Nu*Nu    # Matrix of size Nu x Nu\n",
        "\n",
        "    return int(Nu), int(Nf), int(NNuf), int(NNuu)\n"
      ]
    },
    {
      "cell_type": "code",
      "execution_count": 6,
      "metadata": {
        "id": "UciMJZclxcu-"
      },
      "outputs": [],
      "source": [
        "# Get total number of degrees of freedom on the basis of the element counts and the element type\n",
        "dofs_s = sum(n*edof(etype, order)[0] for etype, n in element_counts.items())\n",
        "dofs_f = sum(n*edof(etype, order)[1] for etype, n in element_counts.items())\n",
        "M_sf   = sum(n*edof(etype, order)[2] for etype, n in element_counts.items())\n",
        "M_ss   = sum(n*edof(etype, order)[3] for etype, n in element_counts.items())\n"
      ]
    },
    {
      "cell_type": "markdown",
      "metadata": {},
      "source": [
        "## Storage"
      ]
    },
    {
      "cell_type": "markdown",
      "metadata": {},
      "source": [
        "Size of registers for explicit RK stages is as per `stepper_nregs` found in `pyfr/integrators/std/steppers.py`."
      ]
    },
    {
      "cell_type": "code",
      "execution_count": 7,
      "metadata": {},
      "outputs": [],
      "source": [
        "rk_registers = {'euler': 2, \n",
        "                'rk4'  : 3,}"
      ]
    },
    {
      "cell_type": "code",
      "execution_count": 8,
      "metadata": {},
      "outputs": [
        {
          "name": "stdout",
          "output_type": "stream",
          "text": [
            "{'1/|J| u': 32,\n",
            " 'S matrix u': 288,\n",
            " 'n/|n| i': 144.0,\n",
            " 'scalar f': 480,\n",
            " 'scalar u': 480,\n",
            " 'scalar view i': 96,\n",
            " 'total': 3680.0,\n",
            " 'vector f': 1440,\n",
            " 'vector u': 480,\n",
            " 'vector view i': 144,\n",
            " '|n| i': 96}\n"
          ]
        }
      ],
      "source": [
        "# Storage values in bytes\n",
        "solution_storages = {\n",
        "       'scalar u': precision_size[precision]*nvars*dofs_s*rk_registers[scheme],\n",
        "       'vector u': precision_size[precision]*nvars*dofs_s*ndims,\n",
        "     'S matrix u': precision_size[precision]*dofs_s*ndims**2,\n",
        "        '1/|J| u': precision_size[precision]*dofs_s,\n",
        "                    }     \n",
        "\n",
        "# Flux\n",
        "flux_storages = {\n",
        "     'scalar f': precision_size[precision]*nvars*dofs_f,\n",
        "     'vector f': precision_size[precision]*nvars*dofs_f*ndims if system == 'navier-stokes' else 0,\n",
        "}\n",
        "# Interface-normal storages\n",
        "interface_normal_storages = {\n",
        "           'n/|n| i': precision_size[precision]*dofs_f*ndims/2,\n",
        "             '|n| i': precision_size[precision]*dofs_f,\n",
        "     'scalar view i': precision_size[ 'single']*dofs_f*2,\n",
        "     'vector view i': precision_size[ 'single']*dofs_f*ndims if system == 'navier-stokes' else 0,\n",
        "}\n",
        "\n",
        "storages = solution_storages|flux_storages|interface_normal_storages\n",
        "from pprint import pprint\n",
        "storages['total'] = sum(storages.values())\n",
        "pprint(storages)"
      ]
    },
    {
      "cell_type": "markdown",
      "metadata": {},
      "source": [
        "## Over one sweep of the integrator ...\n",
        "Total number of computations performed is a function of kernels.\n",
        "The inputs, outputs and computations in each kernel needs to be understood."
      ]
    },
    {
      "cell_type": "markdown",
      "metadata": {},
      "source": [
        "### ... total number of floating point operations performed "
      ]
    },
    {
      "cell_type": "code",
      "execution_count": 9,
      "metadata": {},
      "outputs": [],
      "source": [
        "# Store dictionary of computations, inputs and outputs\n",
        "\n",
        "soln_flux_matrix_computations = sum([n*edof(k,order)[0]*edof(k,order)[1] for k, n in element_counts.items()])*2*nvars\n",
        "soln_soln_matrix_computations = sum([n*edof(k,order)[0]*edof(k,order)[0] for k, n in element_counts.items()])*2*nvars*ndims\n",
        "\n",
        "if ndims == 2:\n",
        "    if system == 'euler':\n",
        "        non_Ms = {'Gradcoru':         0, 'Tflux':  44*dofs_s, 'Rsolves':  92*dofs_f/2,}\n",
        "    else:\n",
        "        non_Ms = {'Gradcoru': 32*dofs_f, 'Tflux':  91*dofs_s, 'Rsolves': 200*dofs_f/2,}\n",
        "elif ndims == 3:\n",
        "    if system == 'euler':\n",
        "        non_Ms = {'Gradcoru':         0, 'Tflux': 105*dofs_s, 'Rsolves': 140*dofs_f/2,}\n",
        "    else:\n",
        "        non_Ms = {'Gradcoru': 90*dofs_s, 'Tflux': 189*dofs_s, 'Rsolves': 269*dofs_f/2,}\n",
        "#                                                         https://github.com/sambitmishra98/PyFR/blob/benchmark/pyfr/.................................\n",
        "# Computations\n",
        "Ms = {'M0'  : soln_flux_matrix_computations,                                            # disu,            u*f      solvers/baseadvec/elements.py#L73\n",
        "      'M132': soln_soln_matrix_computations,                                            # qptsu,           dims*u*u solvers/baseadvec/elements.py#L90\n",
        "      'M3'  : soln_flux_matrix_computations,                                            # tdivtpcorf,      u*f      solvers/baseadvec/elements.py#L97\n",
        "      'M460': soln_soln_matrix_computations       if system == 'navier-stokes' else 0,  # tgradpcoru_upts, u*u      solvers/baseadvecdiff/elements.py#L34 \n",
        "      'M6'  : soln_flux_matrix_computations*ndims if system == 'navier-stokes' else 0,  # tgradcoru_upts,  dims*u*f solvers/baseadvecdiff/elements.py#L38\n",
        "      'M5'  : soln_flux_matrix_computations*ndims if system == 'navier-stokes' else 0,  # mul,             dims*u*f solvers/baseadvecdiff/elements.py#L68\n",
        "}\n",
        "\n",
        "others={'Conu'    : 0,\n",
        "        'Rcpdjac' : nvars*dofs_s, \n",
        "}\n",
        "\n",
        "kernels = Ms|non_Ms|others\n"
      ]
    },
    {
      "cell_type": "markdown",
      "metadata": {},
      "source": [
        "### ... total reads and writes performed\n",
        "\n",
        "Matrix multiplications are the costliest parts. Hence, vector multiplications shall be ignored and only M-related computations shall be considered.\n"
      ]
    },
    {
      "cell_type": "code",
      "execution_count": 10,
      "metadata": {},
      "outputs": [
        {
          "name": "stdout",
          "output_type": "stream",
          "text": [
            "{'M0': 4,\n",
            " 'M132': 12,\n",
            " 'M3': 12,\n",
            " 'M460': 4,\n",
            " 'M5': 36,\n",
            " 'M6': 36}\n",
            "{'M0': 48,\n",
            " 'M132': 48,\n",
            " 'M3': 48,\n",
            " 'M460': 16,\n",
            " 'M5': 144,\n",
            " 'M6': 144}\n",
            "{'M0': 12,\n",
            " 'M132': 4,\n",
            " 'M3': 4,\n",
            " 'M460': 4,\n",
            " 'M5': 4,\n",
            " 'M6': 4}\n",
            "552\n"
          ]
        }
      ],
      "source": [
        "#def edof(etype, n):\n",
        "#    if etype == 'tri':\n",
        "#        Nu = (n+1)*(n+2)/2\n",
        "#        Nf = 3*(n+1)\n",
        "#    elif etype == 'quad':\n",
        "#        Nu = (n+1)**2\n",
        "#        Nf = 4*(n+1)\n",
        "#    elif etype == 'tet':\n",
        "#        Nu = (n+3)*edof('tri', n)[0]//3\n",
        "#        Nf = 4*edof('tri', n)[0]\n",
        "#    elif etype == 'pyr':\n",
        "#        Nu = (2*n+3)*edof('tri', n)[0]//3\n",
        "#        Nf = 4*edof('tri', n)[0] +   edof('quad', n)[0]\n",
        "#    elif etype == 'pri':\n",
        "#        Nu = (n+1)*edof('tri', n)[0]\n",
        "#        Nf = 2*edof('tri', n)[0] + 3*edof('quad', n)[0]\n",
        "#    elif etype == 'hex':\n",
        "#        Nu = (n+1)*edof('quad', n)[0]\n",
        "#        Nf = 6*edof('quad', n)[0]\n",
        "#    else:\n",
        "#        raise Exception(\"Not implemented yet\")\n",
        "#\n",
        "#    NNuf = Nu*Nf    # Matrix of size Nu x Nf\n",
        "#    NNuu = Nu*Nu    # Matrix of size Nu x Nu\n",
        "#\n",
        "#    return int(Nu), int(Nf), int(NNuf), int(NNuu)\n",
        "#\n",
        "#dofs_s = sum(n*edof(etype, order)[0] for etype, n in element_counts.items())\n",
        "#dofs_f = sum(n*edof(etype, order)[1] for etype, n in element_counts.items())\n",
        "#\n",
        "#\n",
        "#M_sf   = sum(n*edof(etype, order)[2] for etype, n in element_counts.items())\n",
        "#M_ss   = sum(n*edof(etype, order)[3] for etype, n in element_counts.items())\n",
        "\n",
        "#soln_flux_matrix_computations = sum([n*edof(k,order)[0]*edof(k,order)[1] for k, n in element_counts.items()])*2*nvars\n",
        "#soln_soln_matrix_computations = sum([n*edof(k,order)[0]*edof(k,order)[0] for k, n in element_counts.items()])*2*nvars*ndims\n",
        "## Computations\n",
        "#Ms = {'M0'  : soln_flux_matrix_computations,                                            # disu,            u*f      solvers/baseadvec/elements.py#L73\n",
        "#      'M132': soln_soln_matrix_computations,                                            # qptsu,           dims*u*u solvers/baseadvec/elements.py#L90\n",
        "#      'M3'  : soln_flux_matrix_computations,                                            # tdivtpcorf,      u*f      solvers/baseadvec/elements.py#L97\n",
        "#      'M460': soln_soln_matrix_computations       if system == 'navier-stokes' else 0,  # tgradpcoru_upts, u*u      solvers/baseadvecdiff/elements.py#L34 \n",
        "#      'M6'  : soln_flux_matrix_computations*ndims if system == 'navier-stokes' else 0,  # tgradcoru_upts,  dims*u*f solvers/baseadvecdiff/elements.py#L38\n",
        "#      'M5'  : soln_flux_matrix_computations*ndims if system == 'navier-stokes' else 0,  # mul,             dims*u*f solvers/baseadvecdiff/elements.py#L68\n",
        "#}\n",
        "\n",
        "vector_reads  = {\n",
        "    'M0'  :       dofs_s,\n",
        "    'M132': ndims*dofs_s,\n",
        "    'M3'  :       dofs_f,\n",
        "    'M460':       dofs_s,\n",
        "    'M6'  : ndims*dofs_f,\n",
        "    'M5'  : ndims*dofs_f,\n",
        "    }\n",
        "\n",
        "cached_matrix_reads = {\n",
        "    'M0'  :       M_sf,\n",
        "    'M132': ndims*M_ss,\n",
        "    'M3'  :       M_sf,\n",
        "    'M460':       M_ss,\n",
        "    'M6'  : ndims*M_sf,\n",
        "    'M5'  : ndims*M_sf,\n",
        "    }\n",
        "\n",
        "vector_writes = {\n",
        "    'M0'  :       dofs_f,\n",
        "    'M132':       dofs_s,\n",
        "    'M3'  :       dofs_s,\n",
        "    'M460':       dofs_s,\n",
        "    'M6'  :       dofs_s,\n",
        "    'M5'  :       dofs_s,\n",
        "    }\n",
        "\n",
        "communication_per_timestep = max(sum(vector_reads.values()) + sum(cached_matrix_reads.values()), sum(vector_writes.values()))\n",
        "\n",
        "pprint(vector_reads, width=1)\n",
        "pprint(cached_matrix_reads, width=1)\n",
        "pprint(vector_writes, width=1)\n",
        "pprint(communication_per_timestep, width=1)"
      ]
    },
    {
      "cell_type": "code",
      "execution_count": null,
      "metadata": {},
      "outputs": [],
      "source": []
    }
  ],
  "metadata": {
    "colab": {
      "authorship_tag": "ABX9TyNhFGpyR+VOyaG8cElAGZdJ",
      "include_colab_link": true,
      "provenance": []
    },
    "kernelspec": {
      "display_name": "Python 3",
      "name": "python3"
    },
    "language_info": {
      "codemirror_mode": {
        "name": "ipython",
        "version": 3
      },
      "file_extension": ".py",
      "mimetype": "text/x-python",
      "name": "python",
      "nbconvert_exporter": "python",
      "pygments_lexer": "ipython3",
      "version": "3.12.0"
    }
  },
  "nbformat": 4,
  "nbformat_minor": 0
}
