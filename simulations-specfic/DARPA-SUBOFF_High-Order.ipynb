{
 "cells": [
  {
   "cell_type": "markdown",
   "metadata": {},
   "source": [
    "# Script for computing spacings\n",
    "\n",
    "Reference: [Nikki Loppi thesis](https://spiral.imperial.ac.uk/handle/10044/1/73888)"
   ]
  },
  {
   "cell_type": "markdown",
   "metadata": {},
   "source": [
    "\n",
    "$$Re = \\frac{\\rho U}{\\nu}$$ "
   ]
  },
  {
   "cell_type": "code",
   "execution_count": 4,
   "metadata": {},
   "outputs": [],
   "source": [
    "Re_x = 1.2e6 # From Loppi thesis\n",
    "U_inf = 1    # Set for ease of computations\n",
    "rho = 1      # Set for ease of computations\n",
    "\n",
    "# Submarine lengths\n",
    "# In Fidelity Pointwise, find these with Ctrl+Shift+MMB\n",
    "L_x_all  = 14.29166\n",
    "L_x_sail = 1.208333\n",
    "L_x_stern = 0.5\n",
    "\n",
    "# Solver \n",
    "order = 5    # As per Sambit's benchmarking paper, order 5 is optimal, while order 6 sees performance drops on H100s and PVCs.\n",
    "\n"
   ]
  },
  {
   "cell_type": "code",
   "execution_count": 6,
   "metadata": {},
   "outputs": [
    {
     "name": "stdout",
     "output_type": "stream",
     "text": [
      "Set in PyFR *.ini file [constants] nu =  1.1909716666666667e-05\n",
      "Sail Reynolds number: Re =  101457.7452864118\n",
      "Stern Reynolds number: Re =  41982.52687231574\n"
     ]
    }
   ],
   "source": [
    "nu_all = rho*U_inf*L_x_all/Re_x\n",
    "Re_x_sail = rho*U_inf*L_x_sail/nu_all\n",
    "Re_x_stern = rho*U_inf*L_x_stern/nu_all\n",
    "\n",
    "print(\"Set in PyFR *.ini file [constants] nu = \", nu_all)\n",
    "print(\"Sail Reynolds number: Re = \", Re_x_sail)\n",
    "print(\"Stern Reynolds number: Re = \", Re_x_stern)"
   ]
  },
  {
   "cell_type": "markdown",
   "metadata": {},
   "source": [
    "## Loppi's $y^+$\n",
    "\n",
    "### From Loppi's thesis ...\n",
    "... The boundary layer blocks were generated such that the first P = 4 Gauss-Legendre solution point is at approximately\n",
    "\n",
    "$$z^+ = \\frac{u^\\tau\\ z}{\\mu} = 2.5$$\n",
    " with $u\\tau = \\sqrt{\\tau_w}$ being the wall-shear stress reported in reference: Posa and E. Balaras, “A numerical investigation of the wake of an axisym- metric body with appendages,” Journal of Fluid Mechanics, vol. 792, pp. 470– 498, 2016 ...\n",
    " "
   ]
  },
  {
   "cell_type": "markdown",
   "metadata": {},
   "source": [
    "## Low-order $y^+$ spacing\n",
    "\n",
    "Reference: https://www.cadence.com/en_US/home/tools/system-analysis/computational-fluid-dynamics/y-plus.html\n",
    "\n",
    "Assumption: Flat-plate boundary layer theory from Frank M. White's Fluid Mechanics 5th edition, page 467."
   ]
  },
  {
   "cell_type": "code",
   "execution_count": 7,
   "metadata": {},
   "outputs": [
    {
     "name": "stdout",
     "output_type": "stream",
     "text": [
      "Loppi used y⁺: 2.5\n",
      "Complete Submarine:  0.0007097362607123966\n",
      "Sail:  0.0005949241005704607\n",
      "Stern:  0.0005585845845006936\n"
     ]
    }
   ],
   "source": [
    "print(\"Loppi used y⁺:\", 2.5)\n",
    "y_plus = 2.5\n",
    "\n",
    "# Overall\n",
    "C_f = 0.026/Re_x**(1/7)\n",
    "tau_wall = C_f*0.5*rho*U_inf**2\n",
    "U_fric = (tau_wall/rho)**0.5\n",
    "delta_y_all = y_plus*nu_all/U_fric\n",
    "print(\"Complete Submarine: \", delta_y_all)\n",
    "# Sail\n",
    "C_f = 0.026/Re_x_sail**(1/7)\n",
    "tau_wall = C_f*0.5*rho*U_inf**2\n",
    "U_fric = (tau_wall/rho)**0.5\n",
    "delta_y_sail = y_plus*nu_all/U_fric\n",
    "\n",
    "print(\"Sail: \", delta_y_sail)\n",
    "\n",
    "C_f = 0.026/Re_x_stern**(1/7)\n",
    "tau_wall = C_f*0.5*rho*U_inf**2\n",
    "U_fric = (tau_wall/rho)**0.5\n",
    "delta_y_stern = y_plus*nu_all/U_fric\n",
    "print(\"Stern: \", delta_y_stern)\n"
   ]
  },
  {
   "cell_type": "markdown",
   "metadata": {},
   "source": [
    "## High-order $y^+$ spacing\n",
    "\n",
    "Assuming we use hexahedral elements [Gauss-Legendre quadrature points](https://en.wikipedia.org/wiki/Gauss%E2%80%93Legendre_quadrature), the high-order element may be chosen to be larger than the low-order spacing we just got. Rule of thumb is to multiply the obtained low-order $y^+$ by the element size (anyways we use Flat-plate assumption and these numbers are best obtained after a few simulation runs iteratively). "
   ]
  },
  {
   "cell_type": "code",
   "execution_count": 11,
   "metadata": {},
   "outputs": [
    {
     "name": "stdout",
     "output_type": "stream",
     "text": [
      "[2.0, 4.7320477936827166, 8.872996366507987, 14.402580942504898, 21.317416329140904, 29.616253702314577, 39.29883980138545]\n"
     ]
    }
   ],
   "source": [
    "# Keeping first point location by Gauss-Legendre quadrature in one place\n",
    "# Get the numbers from: https://pomax.github.io/bezierinfo/legendre-gauss.html\n",
    "\n",
    "first_point_loc = {0: 0.0, 1: 0.57735, 2: 0.774597, 3: 0.861136, 4: 0.90618, 5:0.9324695142031521, 6:0.9491079123427585}\n",
    "\n",
    "Normalised_cell_height_multiplier = [2/(1-x) for x in first_point_loc.values()]\n",
    "print(Normalised_cell_height_multiplier)"
   ]
  },
  {
   "cell_type": "code",
   "execution_count": 12,
   "metadata": {},
   "outputs": [
    {
     "name": "stdout",
     "output_type": "stream",
     "text": [
      "y⁺ spacing:  0.02101972915899042 0.01761942309611608 0.016543182768774516\n",
      "Aspect ratio:  5\n",
      "x⁺ spacing:  0.1050986457949521 0.0880971154805804 0.08271591384387258\n"
     ]
    }
   ],
   "source": [
    "s_all = delta_y_all*Normalised_cell_height_multiplier[order]\n",
    "s_sail = delta_y_sail*Normalised_cell_height_multiplier[order]\n",
    "s_stern = delta_y_stern*Normalised_cell_height_multiplier[order]\n",
    "ar = 5\n",
    "print(\"y⁺ spacing: \", s_all, s_sail, s_stern)\n",
    "print(\"Aspect ratio: \", ar)\n",
    "print(\"x⁺ spacing: \", s_all*ar, s_sail*ar, s_stern*ar)"
   ]
  },
  {
   "cell_type": "markdown",
   "metadata": {},
   "source": [
    "## Free-shear region"
   ]
  },
  {
   "cell_type": "markdown",
   "metadata": {},
   "source": [
    "In the free shear region, the cell size increases as $$\\eta = l^{3}* Re^{-3/4},$$ where $l$ is the total length of submarine."
   ]
  },
  {
   "cell_type": "code",
   "execution_count": 13,
   "metadata": {},
   "outputs": [
    {
     "name": "stdout",
     "output_type": "stream",
     "text": [
      "eta:  0.02918548210123611 0.01573775796033254 0.012622305979074502\n"
     ]
    }
   ],
   "source": [
    "eta_all = y_plus*L_x_all* Re_x**(-3/4)*Normalised_cell_height_multiplier[order]\n",
    "eta_sail = y_plus*L_x_sail* Re_x_sail**(-3/4)*Normalised_cell_height_multiplier[order]\n",
    "eta_stern = y_plus*L_x_stern* Re_x_stern**(-3/4)*Normalised_cell_height_multiplier[order]\n",
    "\n",
    "print(\"eta: \", eta_all, eta_sail, eta_stern)\n"
   ]
  },
  {
   "cell_type": "code",
   "execution_count": null,
   "metadata": {},
   "outputs": [],
   "source": []
  }
 ],
 "metadata": {
  "kernelspec": {
   "display_name": "Python 3",
   "language": "python",
   "name": "python3"
  },
  "language_info": {
   "codemirror_mode": {
    "name": "ipython",
    "version": 3
   },
   "file_extension": ".py",
   "mimetype": "text/x-python",
   "name": "python",
   "nbconvert_exporter": "python",
   "pygments_lexer": "ipython3",
   "version": "3.12.2"
  }
 },
 "nbformat": 4,
 "nbformat_minor": 2
}
