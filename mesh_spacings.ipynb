{
 "cells": [
  {
   "cell_type": "markdown",
   "metadata": {},
   "source": [
    "# Script for computing spacings\n",
    "\n",
    "Reference: [Nikki Loppi thesis](https://spiral.imperial.ac.uk/handle/10044/1/73888)"
   ]
  },
  {
   "cell_type": "markdown",
   "metadata": {},
   "source": [
    "\n",
    "$$Re = \\frac{\\rho U}{\\nu}$$ "
   ]
  },
  {
   "cell_type": "code",
   "execution_count": 58,
   "metadata": {},
   "outputs": [],
   "source": [
    "Re_x = 1e6\n",
    "U_inf = 1\n",
    "rho = 1\n",
    "\n",
    "# Submarine lengths\n",
    "# In Fidelity Pointwise, find these with Ctrl+Shift+MMB\n",
    "L_x_all  = 14.29166\n",
    "L_x_sail = 1.208333\n",
    "L_x_stern = 0.5\n",
    "\n",
    "# Solver \n",
    "order = 4\n"
   ]
  },
  {
   "cell_type": "code",
   "execution_count": 59,
   "metadata": {},
   "outputs": [
    {
     "name": "stdout",
     "output_type": "stream",
     "text": [
      "Config file kinematic viscosity: nu =  1.429166e-05\n",
      "Sail Reynolds number: Re =  84548.12107200983\n",
      "Stern Reynolds number: Re =  34985.43906026312\n"
     ]
    }
   ],
   "source": [
    "nu_all = rho*U_inf*L_x_all/Re_x\n",
    "Re_x_sail = rho*U_inf*L_x_sail/nu_all\n",
    "Re_x_stern = rho*U_inf*L_x_stern/nu_all\n",
    "\n",
    "print(\"Config file kinematic viscosity: nu = \", nu_all)\n",
    "print(\"Sail Reynolds number: Re = \", Re_x_sail)\n",
    "print(\"Stern Reynolds number: Re = \", Re_x_stern)"
   ]
  },
  {
   "cell_type": "markdown",
   "metadata": {},
   "source": [
    "## Loppi's $y^+$\n",
    "\n",
    "### From Loppi's thesis ...\n",
    "... The boundary layer blocks were generated such that the first P = 4 Gauss-Legendre solution point is at approximately\n",
    "\n",
    "$$z^+ = \\frac{u^\\tau\\ z}{\\mu} = 2.5$$\n",
    " with $u\\tau = \\sqrt{\\tau_w}$ being the wall-shear stress reported in reference: Posa and E. Balaras, “A numerical investigation of the wake of an axisym- metric body with appendages,” Journal of Fluid Mechanics, vol. 792, pp. 470– 498, 2016 ...\n",
    " "
   ]
  },
  {
   "cell_type": "markdown",
   "metadata": {},
   "source": [
    "## Low-order $y^+$ spacing\n",
    "\n",
    "Reference: https://www.cadence.com/en_US/home/tools/system-analysis/computational-fluid-dynamics/y-plus.html\n",
    "\n",
    "Assumption: Flat-plate boundary layer theory from Frank M. White's Fluid Mechanics 5th edition, page 467."
   ]
  },
  {
   "cell_type": "code",
   "execution_count": 45,
   "metadata": {},
   "outputs": [
    {
     "name": "stdout",
     "output_type": "stream",
     "text": [
      "Loppi used y⁺: 2.5\n",
      "Complete Submarine:  0.0006725311797740908\n",
      "Sail:  0.0005637375872991005\n",
      "Stern:  0.0005293030248176952\n"
     ]
    }
   ],
   "source": [
    "print(\"Loppi used y⁺:\", 2.5)\n",
    "y_plus = 2.5\n",
    "\n",
    "# Overall\n",
    "C_f = 0.026/Re_x**(1/7)\n",
    "tau_wall = C_f*0.5*rho*U_inf**2\n",
    "U_fric = (tau_wall/rho)**0.5\n",
    "delta_y_all = y_plus*nu_all/U_fric\n",
    "print(\"Complete Submarine: \", delta_y_all)\n",
    "# Sail\n",
    "C_f = 0.026/Re_x_sail**(1/7)\n",
    "tau_wall = C_f*0.5*rho*U_inf**2\n",
    "U_fric = (tau_wall/rho)**0.5\n",
    "delta_y_sail = y_plus*nu_all/U_fric\n",
    "\n",
    "print(\"Sail: \", delta_y_sail)\n",
    "\n",
    "C_f = 0.026/Re_x_stern**(1/7)\n",
    "tau_wall = C_f*0.5*rho*U_inf**2\n",
    "U_fric = (tau_wall/rho)**0.5\n",
    "delta_y_stern = y_plus*nu_all/U_fric\n",
    "print(\"Stern: \", delta_y_stern)\n"
   ]
  },
  {
   "cell_type": "markdown",
   "metadata": {},
   "source": [
    "## High-order $y^+$ spacing\n",
    "\n",
    "Assuming we use hexahedral elements [Gauss-Legendre quadrature points](https://en.wikipedia.org/wiki/Gauss%E2%80%93Legendre_quadrature), the high-order element may be chosen to be larger than the low-order spacing we just got. Rule of thumb is to multiply the obtained low-order $y^+$ by the element size (anyways we use Flat-plate assumption and these numbers are best obtained after a few simulation runs iteratively). "
   ]
  },
  {
   "cell_type": "code",
   "execution_count": 46,
   "metadata": {},
   "outputs": [
    {
     "name": "stdout",
     "output_type": "stream",
     "text": [
      "[2.0, 4.7320477936827166, 8.872996366507987, 14.402580942504898, 21.317416329140904]\n"
     ]
    }
   ],
   "source": [
    "# Keeping first point location by Gauss-Legendre quadrature in one place\n",
    "x_1 = [0, 0.57735, 0.774597, 0.861136, 0.90618]\n",
    "\n",
    "Normalised_cell_height_multiplier = [2/(1-x) for x in x_1]\n",
    "print(Normalised_cell_height_multiplier)"
   ]
  },
  {
   "cell_type": "code",
   "execution_count": 47,
   "metadata": {},
   "outputs": [
    {
     "name": "stdout",
     "output_type": "stream",
     "text": [
      "y⁺ spacing:  0.0143366271535726 0.012017428848840342 0.011283372944312408\n",
      "Aspect ratio:  5\n",
      "x⁺ spacing:  0.071683135767863 0.06008714424420171 0.056416864721562036\n"
     ]
    }
   ],
   "source": [
    "s_all = delta_y_all*Normalised_cell_height_multiplier[order]\n",
    "s_sail = delta_y_sail*Normalised_cell_height_multiplier[order]\n",
    "s_stern = delta_y_stern*Normalised_cell_height_multiplier[order]\n",
    "ar = 5\n",
    "print(\"y⁺ spacing: \", s_all, s_sail, s_stern)\n",
    "print(\"Aspect ratio: \", ar)\n",
    "print(\"x⁺ spacing: \", s_all*ar, s_sail*ar, s_stern*ar)"
   ]
  },
  {
   "cell_type": "markdown",
   "metadata": {},
   "source": [
    "## Free-shear region"
   ]
  },
  {
   "cell_type": "markdown",
   "metadata": {},
   "source": [
    "In the free shear region, the cell size increases as $$\\eta = l^{3}* Re^{-3/4},$$ where $l$ is the total length of submarine."
   ]
  },
  {
   "cell_type": "code",
   "execution_count": 61,
   "metadata": {},
   "outputs": [
    {
     "name": "stdout",
     "output_type": "stream",
     "text": [
      "eta:  0.01926847032390621 0.010390183762311158 0.008333339409416851\n"
     ]
    }
   ],
   "source": [
    "eta_all = y_plus*L_x_all* Re_x**(-3/4)*Normalised_cell_height_multiplier[order]\n",
    "eta_sail = y_plus*L_x_sail* Re_x_sail**(-3/4)*Normalised_cell_height_multiplier[order]\n",
    "eta_stern = y_plus*L_x_stern* Re_x_stern**(-3/4)*Normalised_cell_height_multiplier[order]\n",
    "\n",
    "print(\"eta: \", eta_all, eta_sail, eta_stern)\n"
   ]
  },
  {
   "cell_type": "code",
   "execution_count": null,
   "metadata": {},
   "outputs": [],
   "source": []
  }
 ],
 "metadata": {
  "kernelspec": {
   "display_name": "Python 3",
   "language": "python",
   "name": "python3"
  },
  "language_info": {
   "codemirror_mode": {
    "name": "ipython",
    "version": 3
   },
   "file_extension": ".py",
   "mimetype": "text/x-python",
   "name": "python",
   "nbconvert_exporter": "python",
   "pygments_lexer": "ipython3",
   "version": "3.12.0"
  }
 },
 "nbformat": 4,
 "nbformat_minor": 2
}
